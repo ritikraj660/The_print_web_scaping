{
 "cells": [
  {
   "cell_type": "markdown",
   "metadata": {
    "colab_type": "text",
    "id": "O0mUSB2_9_Kr"
   },
   "source": [
    "**1. Three things to evaluate a Classification model.**\n",
    "\n",
    "**Accuracy :**   It is the ratio of true prediction versus the total number of predictions.\n",
    "\n",
    "**Loss :** based on training and validation loss, we try to come up with a model that had balanced bias and variance.\n",
    "In the case of the classification task, we use binary cross-entropy,  categorical cross-entropy, sparse categorical cross-entropy.\n",
    "\n",
    "**Confusion matrix :** With the help of the confusion matrix we calculate different kinds of \n",
    "evaluation matrix, like sensitivity, precision, F1-score.\n",
    "\n",
    "**2. Transform a text to numerical representation.**\n",
    "\n",
    "**Bag of words :**\n",
    "\n",
    "A BOG is represented by text that describes the occurrence of words within documents.\n",
    "Binary BOG contains one if the word is present any number of times in document otherwise zero.\n",
    "             \n",
    "**TF-IDF[Term frequency-Inverse data frequency] :**\n",
    "\n",
    "TF: Term frequency is the number of times a word appears in a document divided by the total number of word n documents. It gives high value to the most occurring word and vice versa.\n",
    "IDF: Inverse data frequency is a log of number of the document present in the corpus by the number of the document that contains the word.\n",
    "TF-IDF = TF*IDF\n",
    "\n",
    "**Word2Vec :**"
   ]
  },
  {
   "cell_type": "markdown",
   "metadata": {
    "colab": {},
    "colab_type": "code",
    "id": "L_vTSFC69_Kw"
   },
   "source": [
    "https://theprint.in/"
   ]
  },
  {
   "cell_type": "code",
   "execution_count": null,
   "metadata": {
    "colab": {},
    "colab_type": "code",
    "id": "jWSxLTwj9_K4"
   },
   "outputs": [],
   "source": [
    "from bs4 import BeautifulSoup as bs\n",
    "from urllib.request import urlopen as uReq\n",
    "import requests\n",
    "import re\n",
    "import pandas as pd"
   ]
  },
  {
   "cell_type": "code",
   "execution_count": null,
   "metadata": {
    "colab": {},
    "colab_type": "code",
    "id": "_tXgHUwl9_LA"
   },
   "outputs": [],
   "source": [
    "def write_to_csv(article_data):\n",
    "    \"\"\"\n",
    "    Write the extracted data into .csv file\n",
    "    Input : dictionary\n",
    "    \"\"\"\n",
    "    df = pd.DataFrame([article_data])\n",
    "    with open('news.csv', 'a') as f:\n",
    "        df.to_csv(f, index=False,header=False)"
   ]
  },
  {
   "cell_type": "code",
   "execution_count": null,
   "metadata": {
    "colab": {},
    "colab_type": "code",
    "id": "wZoeLFwN9_LL"
   },
   "outputs": [],
   "source": [
    "def content_download(url):\n",
    "    \"\"\"\n",
    "    Reads the content og given url\n",
    "    input : url \n",
    "    output : content of pages in html fromat\n",
    "    \"\"\"\n",
    "    try:\n",
    "        uClient = uReq(url)\n",
    "        Page = uClient.read()\n",
    "        uClient.close()\n",
    "        return bs(Page, \"html.parser\")\n",
    "    except:\n",
    "        return None"
   ]
  },
  {
   "cell_type": "code",
   "execution_count": null,
   "metadata": {
    "colab": {},
    "colab_type": "code",
    "id": "-lmtD2S49_LT"
   },
   "outputs": [],
   "source": [
    "def get_news_header_link(bigboxes):\n",
    "    \"\"\"\n",
    "    Home page has many category and each category has its own url\n",
    "    extracting urls of each news category\n",
    "    \"\"\"\n",
    "    news_header_link = []\n",
    "    for big in bigboxes:\n",
    "        #k.append([i.contents[0] for i in big if i!='\\n'])\n",
    "        for temp in big:\n",
    "            if temp !='\\n':\n",
    "                news_header_link.append(temp.contents[0].get('href'))\n",
    "                \n",
    "    return news_header_link"
   ]
  },
  {
   "cell_type": "code",
   "execution_count": null,
   "metadata": {
    "colab": {},
    "colab_type": "code",
    "id": "jXLNYzOd9_La"
   },
   "outputs": [],
   "source": [
    "def article_detail(page_content):\n",
    "    \"\"\"\n",
    "    Extract the data like news date, headlines, tags, author name, article content\n",
    "    given html page\n",
    "    \"\"\"\n",
    "    \n",
    "    try:\n",
    "        news_date = page_content.find(\"span\", {\"class\": \"update_date\"}).text\n",
    "    except:\n",
    "        news_date = None\n",
    "    \n",
    "\n",
    "    try:\n",
    "        news_headline = page_content.find(\"h1\", {\"class\": \"entry-title\"}).text\n",
    "    except:\n",
    "        news_headline = None\n",
    "    \n",
    "\n",
    "    try:\n",
    "        news_tags = [tag.text for tag in page_content.find(\"ul\", {\"class\": \"td-tags td-post-small-box clearfix\"}) if tag.text!='TAGS']\n",
    "    except:\n",
    "        news_tags = None\n",
    "    \n",
    "\n",
    "    try:\n",
    "        news_author = [i.text for i in page_content.findAll(\"a\", {\"class\": \"author url fn\"})]\n",
    "    except:\n",
    "        news_author = None\n",
    "    \n",
    "\n",
    "    try:\n",
    "        articles =[]\n",
    "        news_articles = page_content.find(\"div\", {\"class\": \"td-post-content\"})\n",
    "        for paragraph in news_articles.findAll(\"p\"):\n",
    "            k = re.search(r'^Subscribe to our channels*',paragraph.text) # assuming each article ends with this statement\n",
    "            if k!=None:\n",
    "                 break\n",
    "            if re.search(r'Also read*',paragraph.text)==None:\n",
    "                articles.append(paragraph.text)\n",
    "    except:\n",
    "        articles = None\n",
    "        \n",
    "    try:\n",
    "        news_category = page_content.find(\"li\",{\"class\" : \"entry-category\"}).text\n",
    "    except:\n",
    "        news_category = None\n",
    "        \n",
    "    dic = {\n",
    "        \"News Category\" : news_category,\n",
    "        \"Published Date\" : news_date,\n",
    "        \"Article Headline\" : news_headline,\n",
    "        \"Article Authors\" : news_author,\n",
    "        \"TAGS\" : news_tags,\n",
    "        \"Article Content\" : articles\n",
    "    }\n",
    "    write_to_csv(dic)\n",
    "#     print('#'*20,'\\n')\n",
    "#     print(dic.get(\"Published Date\"),dic.get(\"News Category\"),dic.get(\"Article Authors\"))\n",
    "#     print('\\n','#'*20)"
   ]
  },
  {
   "cell_type": "code",
   "execution_count": null,
   "metadata": {
    "colab": {},
    "colab_type": "code",
    "id": "4WeFk9-69_Li"
   },
   "outputs": [],
   "source": [
    "def news_content(page_content):\n",
    "    \"\"\"\n",
    "    Each news urls had many articles urls\n",
    "    extract urls of articles\n",
    "    \"\"\"\n",
    "    new_urls = page_content.findAll(\"h3\", {\"class\": \"entry-title td-module-title\"})\n",
    "    for urls in new_urls:\n",
    "        #print(urls.contents[0].get('href'))\n",
    "        page_content = content_download(urls.contents[0].get('href'))\n",
    "        if page_content!=None:\n",
    "            article_detail(page_content)\n",
    "        #break"
   ]
  },
  {
   "cell_type": "code",
   "execution_count": null,
   "metadata": {
    "colab": {},
    "colab_type": "code",
    "id": "-Eedai549_Lq"
   },
   "outputs": [],
   "source": [
    "def next_page(url,count):\n",
    "    \"\"\"\n",
    "    It travers page to next page\n",
    "    input : url\n",
    "    output : url of next page which going to be extracted\n",
    "    \"\"\"\n",
    "    page_content = content_download(url)\n",
    "    #article_detail(page_content,news_category)\n",
    "    if page_content!=None:\n",
    "        news_content(page_content)\n",
    "        k = page_content.findAll(\"i\",{\"class\" : \"td-icon-menu-right\"}) #<i class=\"td-icon-menu-right\"></i>\n",
    "        next_url = k[len(k)-1].parent.get('href')\n",
    "        if next_url==None or next_url=='#' or count==0:\n",
    "            return\n",
    "\n",
    "        print(next_url)\n",
    "        count-=1\n",
    "        next_page(next_url,count)\n",
    "    else:\n",
    "        return"
   ]
  },
  {
   "cell_type": "code",
   "execution_count": null,
   "metadata": {
    "colab": {
     "base_uri": "https://localhost:8080/",
     "height": 1000
    },
    "colab_type": "code",
    "id": "Dz9Piifa9_L3",
    "outputId": "a20961d9-7cb8-49b9-b534-a690784f948c"
   },
   "outputs": [
    {
     "name": "stdout",
     "output_type": "stream",
     "text": [
      "https://theprint.in/category/diplomacy/page/2/\n",
      "https://theprint.in/category/diplomacy/page/3/\n",
      "https://theprint.in/category/diplomacy/page/4/\n",
      "https://theprint.in/category/diplomacy/page/5/\n",
      "https://theprint.in/category/diplomacy/page/6/\n",
      "https://theprint.in/category/diplomacy/page/7/\n",
      "https://theprint.in/category/diplomacy/page/8/\n",
      "https://theprint.in/category/diplomacy/page/9/\n",
      "https://theprint.in/category/diplomacy/page/10/\n",
      "https://theprint.in/category/diplomacy/page/11/\n",
      "********************\n",
      "https://theprint.in/ilanomics\n",
      "********************\n",
      "https://theprint.in/category/last-laughs/\n",
      "https://theprint.in/category/last-laughs/page/2/\n",
      "https://theprint.in/category/last-laughs/page/3/\n",
      "https://theprint.in/category/last-laughs/page/4/\n",
      "https://theprint.in/category/last-laughs/page/5/\n",
      "https://theprint.in/category/last-laughs/page/6/\n",
      "https://theprint.in/category/last-laughs/page/7/\n",
      "https://theprint.in/category/last-laughs/page/8/\n",
      "https://theprint.in/category/last-laughs/page/9/\n",
      "https://theprint.in/category/last-laughs/page/10/\n",
      "https://theprint.in/category/last-laughs/page/11/\n",
      "********************\n",
      "https://theprint.in/category/pageturner/excerpt/\n",
      "https://theprint.in/category/pageturner/excerpt/page/2/\n",
      "https://theprint.in/category/pageturner/excerpt/page/3/\n",
      "https://theprint.in/category/pageturner/excerpt/page/4/\n",
      "https://theprint.in/category/pageturner/excerpt/page/5/\n",
      "https://theprint.in/category/pageturner/excerpt/page/6/\n",
      "https://theprint.in/category/pageturner/excerpt/page/7/\n",
      "https://theprint.in/category/pageturner/excerpt/page/8/\n",
      "https://theprint.in/category/pageturner/excerpt/page/9/\n",
      "https://theprint.in/category/pageturner/excerpt/page/10/\n",
      "https://theprint.in/category/pageturner/excerpt/page/11/\n",
      "********************\n",
      "https://theprint.in/category/features/brandma/\n",
      "https://theprint.in/category/features/brandma/page/2/\n",
      "https://theprint.in/category/features/brandma/page/3/\n",
      "https://theprint.in/category/features/brandma/page/4/\n",
      "https://theprint.in/category/features/brandma/page/5/\n",
      "https://theprint.in/category/features/brandma/page/6/\n",
      "https://theprint.in/category/features/brandma/page/7/\n",
      "https://theprint.in/category/features/brandma/page/8/\n",
      "https://theprint.in/category/features/brandma/page/9/\n",
      "https://theprint.in/category/features/brandma/page/10/\n",
      "********************\n",
      "https://theprint.in/category/reel-take/\n",
      "https://theprint.in/category/reel-take/page/2/\n",
      "https://theprint.in/category/reel-take/page/3/\n",
      "https://theprint.in/category/reel-take/page/4/\n",
      "https://theprint.in/category/reel-take/page/5/\n",
      "https://theprint.in/category/reel-take/page/6/\n",
      "https://theprint.in/category/reel-take/page/7/\n",
      "https://theprint.in/category/reel-take/page/8/\n",
      "https://theprint.in/category/reel-take/page/9/\n",
      "https://theprint.in/category/reel-take/page/10/\n",
      "https://theprint.in/category/reel-take/page/11/\n",
      "********************\n",
      "https://theprint.in/category/talk-point/\n",
      "https://theprint.in/category/talk-point/page/2/\n",
      "https://theprint.in/category/talk-point/page/3/\n",
      "https://theprint.in/category/talk-point/page/4/\n",
      "https://theprint.in/category/talk-point/page/5/\n",
      "https://theprint.in/category/talk-point/page/6/\n",
      "https://theprint.in/category/talk-point/page/7/\n",
      "https://theprint.in/category/talk-point/page/8/\n",
      "https://theprint.in/category/talk-point/page/9/\n",
      "https://theprint.in/category/talk-point/page/10/\n",
      "https://theprint.in/category/talk-point/page/11/\n",
      "********************\n",
      "https://theprint.in/category/50-word-edit/\n",
      "https://theprint.in/category/50-word-edit/page/2/\n",
      "https://theprint.in/category/50-word-edit/page/3/\n",
      "https://theprint.in/category/50-word-edit/page/4/\n",
      "https://theprint.in/category/50-word-edit/page/5/\n",
      "https://theprint.in/category/50-word-edit/page/6/\n",
      "https://theprint.in/category/50-word-edit/page/7/\n",
      "https://theprint.in/category/50-word-edit/page/8/\n",
      "https://theprint.in/category/50-word-edit/page/9/\n",
      "https://theprint.in/category/50-word-edit/page/10/\n",
      "https://theprint.in/category/50-word-edit/page/11/\n",
      "********************\n",
      "https://theprint.in/category/national-interest/\n",
      "https://theprint.in/category/national-interest/page/2/\n",
      "https://theprint.in/category/national-interest/page/3/\n",
      "https://theprint.in/category/national-interest/page/4/\n",
      "https://theprint.in/category/national-interest/page/5/\n",
      "https://theprint.in/category/national-interest/page/6/\n",
      "https://theprint.in/category/national-interest/page/7/\n",
      "https://theprint.in/category/national-interest/page/8/\n",
      "https://theprint.in/category/national-interest/page/9/\n",
      "https://theprint.in/category/national-interest/page/10/\n",
      "https://theprint.in/category/national-interest/page/11/\n",
      "********************\n",
      "https://theprint.in/off-the-cuff/\n",
      "********************\n",
      "https://theprint.in/democracy-wall/\n",
      "********************\n",
      "https://theprint.in/category/india/education/\n",
      "https://theprint.in/category/india/education/page/2/\n",
      "https://theprint.in/category/india/education/page/3/\n",
      "https://theprint.in/category/india/education/page/4/\n",
      "https://theprint.in/category/india/education/page/5/\n",
      "https://theprint.in/category/india/education/page/6/\n",
      "https://theprint.in/category/india/education/page/7/\n",
      "https://theprint.in/category/india/education/page/8/\n",
      "https://theprint.in/category/india/education/page/9/\n",
      "https://theprint.in/category/india/education/page/10/\n",
      "https://theprint.in/category/india/education/page/11/\n",
      "********************\n",
      "https://theprint.in/category/global-pulse/\n",
      "https://theprint.in/category/global-pulse/page/2/\n",
      "https://theprint.in/category/global-pulse/page/3/\n",
      "https://theprint.in/category/global-pulse/page/4/\n",
      "https://theprint.in/category/global-pulse/page/5/\n",
      "https://theprint.in/category/global-pulse/page/6/\n",
      "https://theprint.in/category/global-pulse/page/7/\n",
      "https://theprint.in/category/global-pulse/page/8/\n",
      "https://theprint.in/category/global-pulse/page/9/\n",
      "https://theprint.in/category/global-pulse/page/10/\n",
      "https://theprint.in/category/global-pulse/page/11/\n",
      "********************\n",
      "https://theprint.in/category/health/\n",
      "https://theprint.in/category/health/page/2/\n",
      "https://theprint.in/category/health/page/3/\n",
      "https://theprint.in/category/health/page/4/\n",
      "https://theprint.in/category/health/page/5/\n",
      "https://theprint.in/category/health/page/6/\n",
      "https://theprint.in/category/health/page/7/\n",
      "https://theprint.in/category/health/page/8/\n",
      "https://theprint.in/category/health/page/9/\n",
      "https://theprint.in/category/health/page/10/\n",
      "https://theprint.in/category/health/page/11/\n",
      "********************\n",
      "https://theprint.in/category/hoaxposed/\n",
      "https://theprint.in/category/hoaxposed/page/2/\n",
      "https://theprint.in/category/hoaxposed/page/3/\n",
      "https://theprint.in/category/hoaxposed/page/4/\n",
      "https://theprint.in/category/hoaxposed/page/5/\n",
      "https://theprint.in/category/hoaxposed/page/6/\n",
      "https://theprint.in/category/hoaxposed/page/7/\n",
      "https://theprint.in/category/hoaxposed/page/8/\n",
      "https://theprint.in/category/hoaxposed/page/9/\n",
      "https://theprint.in/category/hoaxposed/page/10/\n",
      "https://theprint.in/category/hoaxposed/page/11/\n",
      "********************\n",
      "https://theprint.in/category/best-of-theprint-icymi/\n",
      "https://theprint.in/category/best-of-theprint-icymi/page/2/\n",
      "https://theprint.in/category/best-of-theprint-icymi/page/3/\n",
      "https://theprint.in/category/best-of-theprint-icymi/page/4/\n",
      "https://theprint.in/category/best-of-theprint-icymi/page/5/\n",
      "https://theprint.in/category/best-of-theprint-icymi/page/6/\n",
      "https://theprint.in/category/best-of-theprint-icymi/page/7/\n",
      "https://theprint.in/category/best-of-theprint-icymi/page/8/\n",
      "https://theprint.in/category/best-of-theprint-icymi/page/9/\n",
      "https://theprint.in/category/best-of-theprint-icymi/page/10/\n",
      "https://theprint.in/category/best-of-theprint-icymi/page/11/\n",
      "********************\n",
      "https://theprint.in/category/in-pictures/\n",
      "https://theprint.in/category/in-pictures/page/2/\n",
      "https://theprint.in/category/in-pictures/page/3/\n",
      "https://theprint.in/category/in-pictures/page/4/\n",
      "https://theprint.in/category/in-pictures/page/5/\n"
     ]
    }
   ],
   "source": [
    "%%time\n",
    "if __name__=='__main__':\n",
    "    url = 'https://theprint.in/'\n",
    "    page_content = content_download(url)\n",
    "    bigboxes = page_content.findAll(\"ul\", {\"class\": \"sub-menu\"})\n",
    "    news_header = get_news_header_link(bigboxes) #52\n",
    "    #print(news_header)\n",
    "    for i in news_header:\n",
    "        count=10\n",
    "        if i!=None:\n",
    "            print('*'*20)\n",
    "            print(i)\n",
    "            next_page(i,count)"
   ]
  },
  {
   "cell_type": "code",
   "execution_count": null,
   "metadata": {
    "colab": {},
    "colab_type": "code",
    "id": "FeY2xDsv9_L-"
   },
   "outputs": [],
   "source": [
    "\n",
    "df = pd.read_csv('news.csv')\n",
    "header_ = [\"News_Category\" ,\"Published_Date\",\"Article_Headline\" ,\"Article_Authors\" ,\"TAGS\" ,\"Article_Content\"]\n",
    "df.to_csv(\"news.csv\", header=header_, index=False)"
   ]
  },
  {
   "cell_type": "markdown",
   "metadata": {
    "colab_type": "text",
    "id": "vPG3TAgr9_MF"
   },
   "source": [
    "**EDA :**\n",
    "\n"
   ]
  },
  {
   "cell_type": "code",
   "execution_count": null,
   "metadata": {
    "colab": {},
    "colab_type": "code",
    "id": "kB-8e6PS9_MH"
   },
   "outputs": [],
   "source": [
    "import pandas as pd\n",
    "from matplotlib import pyplot as plt\n",
    "from heapq import nlargest \n",
    "import spacy\n"
   ]
  },
  {
   "cell_type": "code",
   "execution_count": null,
   "metadata": {
    "colab": {
     "base_uri": "https://localhost:8080/",
     "height": 356
    },
    "colab_type": "code",
    "id": "rGl9mhSF9_MN",
    "outputId": "e1a70fcd-024e-4fab-e6e8-93e96bd96ae7"
   },
   "outputs": [
    {
     "data": {
      "text/html": [
       "<div>\n",
       "<style scoped>\n",
       "    .dataframe tbody tr th:only-of-type {\n",
       "        vertical-align: middle;\n",
       "    }\n",
       "\n",
       "    .dataframe tbody tr th {\n",
       "        vertical-align: top;\n",
       "    }\n",
       "\n",
       "    .dataframe thead th {\n",
       "        text-align: right;\n",
       "    }\n",
       "</style>\n",
       "<table border=\"1\" class=\"dataframe\">\n",
       "  <thead>\n",
       "    <tr style=\"text-align: right;\">\n",
       "      <th></th>\n",
       "      <th>News_Category</th>\n",
       "      <th>Published_Date</th>\n",
       "      <th>Article_Headline</th>\n",
       "      <th>Article_Authors</th>\n",
       "      <th>TAGS</th>\n",
       "      <th>Article_Content</th>\n",
       "    </tr>\n",
       "  </thead>\n",
       "  <tbody>\n",
       "    <tr>\n",
       "      <th>0</th>\n",
       "      <td>Pre-Truth</td>\n",
       "      <td>25 July, 2020 3:16 pm IST</td>\n",
       "      <td>Scindia must prove himself more before PM Modi...</td>\n",
       "      <td>['ThePrint Team']</td>\n",
       "      <td>['brahmins', 'Chief Minister Yogi Adityanath',...</td>\n",
       "      <td>['BJP leader Jyotiraditya Scindia’s nomination...</td>\n",
       "    </tr>\n",
       "    <tr>\n",
       "      <th>1</th>\n",
       "      <td>Pre-Truth</td>\n",
       "      <td>17 July, 2020 5:26 pm IST</td>\n",
       "      <td>These 3 leaders, called the BJP’s ‘rhymical tr...</td>\n",
       "      <td>['ThePrint Team']</td>\n",
       "      <td>['Devendra Fadnavis', 'Dharmendra Pradhan', 'J...</td>\n",
       "      <td>['As Bharatiya Janata Party (BJP) president J....</td>\n",
       "    </tr>\n",
       "    <tr>\n",
       "      <th>2</th>\n",
       "      <td>Pre-Truth</td>\n",
       "      <td>26 June, 2020 4:16 pm IST</td>\n",
       "      <td>Health minister’s confidante, Congress leader’...</td>\n",
       "      <td>['ThePrint Team']</td>\n",
       "      <td>['Congress Working Committee', 'Edappadi Palan...</td>\n",
       "      <td>['Two weeks after IAS officer Beela Rajesh was...</td>\n",
       "    </tr>\n",
       "    <tr>\n",
       "      <th>3</th>\n",
       "      <td>Pre-Truth</td>\n",
       "      <td>9 June, 2020 7:39 pm IST</td>\n",
       "      <td>This 1987-batch IAS officer is the front-runne...</td>\n",
       "      <td>['ThePrint Team']</td>\n",
       "      <td>['Jal Shakti ministry', 'Namami Gange scheme',...</td>\n",
       "      <td>['The power corridors in Punjab are agog with ...</td>\n",
       "    </tr>\n",
       "    <tr>\n",
       "      <th>4</th>\n",
       "      <td>Pre-Truth</td>\n",
       "      <td>10 May, 2020 4:21 pm IST</td>\n",
       "      <td>Why some IAS parents could pull kids out of Sa...</td>\n",
       "      <td>['ThePrint Team']</td>\n",
       "      <td>['Arvind Kejriwal', 'Containment zones', 'IAS ...</td>\n",
       "      <td>['With Delhi’s elite Sanskriti School refusing...</td>\n",
       "    </tr>\n",
       "    <tr>\n",
       "      <th>5</th>\n",
       "      <td>Pre-Truth</td>\n",
       "      <td>15 April, 2020 9:39 am IST</td>\n",
       "      <td>This ‘Venetian’ reason could be behind PM Modi...</td>\n",
       "      <td>['ThePrint Team']</td>\n",
       "      <td>['China', 'COVID-19', 'Narendra Modi', 'Nation...</td>\n",
       "      <td>['As Prime Minister Narendra Modi announced th...</td>\n",
       "    </tr>\n",
       "    <tr>\n",
       "      <th>6</th>\n",
       "      <td>Pre-Truth</td>\n",
       "      <td>7 April, 2020 10:18 am IST</td>\n",
       "      <td>How BJP workers can ensure party collects Rs 7...</td>\n",
       "      <td>['ThePrint Team']</td>\n",
       "      <td>['China', 'J.P. Nadda', 'PM-CARE']</td>\n",
       "      <td>['The Bharatiya Janata Party (BJP) could contr...</td>\n",
       "    </tr>\n",
       "    <tr>\n",
       "      <th>7</th>\n",
       "      <td>Pre-Truth</td>\n",
       "      <td>25 March, 2020 7:03 pm IST</td>\n",
       "      <td>Modi announced it last Thursday but Covid-19 e...</td>\n",
       "      <td>['ThePrint Team']</td>\n",
       "      <td>['Coronavirus', 'COVID-19', 'Nithyananda']</td>\n",
       "      <td>['Prime Minister Narendra Modi last Thursday a...</td>\n",
       "    </tr>\n",
       "    <tr>\n",
       "      <th>8</th>\n",
       "      <td>Pre-Truth</td>\n",
       "      <td>23 March, 2020 5:53 pm IST</td>\n",
       "      <td>Why BJP is not happy with Karnataka CM Yediyur...</td>\n",
       "      <td>['ThePrint Team']</td>\n",
       "      <td>['B. S. Yediyurappa', 'BJP Karnataka', 'IRS', ...</td>\n",
       "      <td>['BJP circles in Karnataka are abuzz with spec...</td>\n",
       "    </tr>\n",
       "    <tr>\n",
       "      <th>9</th>\n",
       "      <td>Pre-Truth</td>\n",
       "      <td>7 March, 2020 6:32 pm IST</td>\n",
       "      <td>Sponsor Yes Bank is a no show at ET summit but...</td>\n",
       "      <td>['ThePrint Team']</td>\n",
       "      <td>['Coronavirus', 'Prime Minister Narendra Modi'...</td>\n",
       "      <td>['Prime Minister Narendra Modi attended the Ec...</td>\n",
       "    </tr>\n",
       "  </tbody>\n",
       "</table>\n",
       "</div>"
      ],
      "text/plain": [
       "  News_Category  ...                                    Article_Content\n",
       "0     Pre-Truth  ...  ['BJP leader Jyotiraditya Scindia’s nomination...\n",
       "1     Pre-Truth  ...  ['As Bharatiya Janata Party (BJP) president J....\n",
       "2     Pre-Truth  ...  ['Two weeks after IAS officer Beela Rajesh was...\n",
       "3     Pre-Truth  ...  ['The power corridors in Punjab are agog with ...\n",
       "4     Pre-Truth  ...  ['With Delhi’s elite Sanskriti School refusing...\n",
       "5     Pre-Truth  ...  ['As Prime Minister Narendra Modi announced th...\n",
       "6     Pre-Truth  ...  ['The Bharatiya Janata Party (BJP) could contr...\n",
       "7     Pre-Truth  ...  ['Prime Minister Narendra Modi last Thursday a...\n",
       "8     Pre-Truth  ...  ['BJP circles in Karnataka are abuzz with spec...\n",
       "9     Pre-Truth  ...  ['Prime Minister Narendra Modi attended the Ec...\n",
       "\n",
       "[10 rows x 6 columns]"
      ]
     },
     "execution_count": 4,
     "metadata": {
      "tags": []
     },
     "output_type": "execute_result"
    }
   ],
   "source": [
    "df = pd.read_csv('news.csv')\n",
    "df.head(10)"
   ]
  },
  {
   "cell_type": "code",
   "execution_count": null,
   "metadata": {
    "colab": {},
    "colab_type": "code",
    "id": "js0b9L819_Ma"
   },
   "outputs": [],
   "source": [
    "def name_entity_extraction(nlp,document):\n",
    "    #print(i)\n",
    "    wiki = nlp(i)\n",
    "    l = []\n",
    "    for word in wiki.ents:\n",
    "        l.append([word.text,word.label_])\n",
    "    return l\n",
    "nlp = spacy.load('en')\n",
    "Name_entity=[]\n",
    "for i in df['Article_Content']:\n",
    "    Name_entity.append(name_entity_extraction(nlp,i.replace('\\\\xa0','')))"
   ]
  },
  {
   "cell_type": "code",
   "execution_count": null,
   "metadata": {
    "colab": {
     "base_uri": "https://localhost:8080/",
     "height": 529
    },
    "colab_type": "code",
    "id": "XT86E2dX9_Mi",
    "outputId": "e82d2fc2-07e5-44ae-811f-c6586b073ef4"
   },
   "outputs": [
    {
     "data": {
      "text/html": [
       "<div>\n",
       "<style scoped>\n",
       "    .dataframe tbody tr th:only-of-type {\n",
       "        vertical-align: middle;\n",
       "    }\n",
       "\n",
       "    .dataframe tbody tr th {\n",
       "        vertical-align: top;\n",
       "    }\n",
       "\n",
       "    .dataframe thead th {\n",
       "        text-align: right;\n",
       "    }\n",
       "</style>\n",
       "<table border=\"1\" class=\"dataframe\">\n",
       "  <thead>\n",
       "    <tr style=\"text-align: right;\">\n",
       "      <th></th>\n",
       "      <th>News_Category</th>\n",
       "      <th>Published_Date</th>\n",
       "      <th>Article_Headline</th>\n",
       "      <th>Article_Authors</th>\n",
       "      <th>TAGS</th>\n",
       "      <th>Article_Content</th>\n",
       "      <th>Name_Entities</th>\n",
       "    </tr>\n",
       "  </thead>\n",
       "  <tbody>\n",
       "    <tr>\n",
       "      <th>0</th>\n",
       "      <td>Pre-Truth</td>\n",
       "      <td>25 July, 2020 3:16 pm IST</td>\n",
       "      <td>Scindia must prove himself more before PM Modi...</td>\n",
       "      <td>ThePrint Team</td>\n",
       "      <td>brahmins, Chief Minister Yogi Adityanath, Jyot...</td>\n",
       "      <td>BJP leader Jyotiraditya Scindia’s nomination t...</td>\n",
       "      <td>[[BJP, ORG], [Jyotiraditya Scindia, PERSON], [...</td>\n",
       "    </tr>\n",
       "    <tr>\n",
       "      <th>1</th>\n",
       "      <td>Pre-Truth</td>\n",
       "      <td>17 July, 2020 5:26 pm IST</td>\n",
       "      <td>These 3 leaders, called the BJP’s ‘rhymical tr...</td>\n",
       "      <td>ThePrint Team</td>\n",
       "      <td>Devendra Fadnavis, Dharmendra Pradhan, Jagdeep...</td>\n",
       "      <td>As Bharatiya Janata Party (BJP) president J.P....</td>\n",
       "      <td>[[Bharatiya Janata Party, ORG], [BJP, ORG], [J...</td>\n",
       "    </tr>\n",
       "    <tr>\n",
       "      <th>2</th>\n",
       "      <td>Pre-Truth</td>\n",
       "      <td>26 June, 2020 4:16 pm IST</td>\n",
       "      <td>Health minister’s confidante, Congress leader’...</td>\n",
       "      <td>ThePrint Team</td>\n",
       "      <td>Congress Working Committee, Edappadi Palaniswa...</td>\n",
       "      <td>Two weeks after IAS officer Beela Rajesh was s...</td>\n",
       "      <td>[[Two weeks, DATE], [IAS, ORG], [Beela Rajesh,...</td>\n",
       "    </tr>\n",
       "    <tr>\n",
       "      <th>3</th>\n",
       "      <td>Pre-Truth</td>\n",
       "      <td>9 June, 2020 7:39 pm IST</td>\n",
       "      <td>This 1987-batch IAS officer is the front-runne...</td>\n",
       "      <td>ThePrint Team</td>\n",
       "      <td>Jal Shakti ministry, Namami Gange scheme, PM C...</td>\n",
       "      <td>The power corridors in Punjab are agog with sp...</td>\n",
       "      <td>[[Punjab, PERSON], [Karan Avtar Singh, FAC], [...</td>\n",
       "    </tr>\n",
       "    <tr>\n",
       "      <th>4</th>\n",
       "      <td>Pre-Truth</td>\n",
       "      <td>10 May, 2020 4:21 pm IST</td>\n",
       "      <td>Why some IAS parents could pull kids out of Sa...</td>\n",
       "      <td>ThePrint Team</td>\n",
       "      <td>Arvind Kejriwal, Containment zones, IAS office...</td>\n",
       "      <td>With Delhi’s elite Sanskriti School refusing t...</td>\n",
       "      <td>[[Delhi, GPE], [Sanskriti School, ORG], [almos...</td>\n",
       "    </tr>\n",
       "    <tr>\n",
       "      <th>5</th>\n",
       "      <td>Pre-Truth</td>\n",
       "      <td>15 April, 2020 9:39 am IST</td>\n",
       "      <td>This ‘Venetian’ reason could be behind PM Modi...</td>\n",
       "      <td>ThePrint Team</td>\n",
       "      <td>China, COVID-19, Narendra Modi, Nationwide loc...</td>\n",
       "      <td>As Prime Minister Narendra Modi announced the ...</td>\n",
       "      <td>[[Narendra Modi, PERSON], [another 19 days, DA...</td>\n",
       "    </tr>\n",
       "    <tr>\n",
       "      <th>6</th>\n",
       "      <td>Pre-Truth</td>\n",
       "      <td>7 April, 2020 10:18 am IST</td>\n",
       "      <td>How BJP workers can ensure party collects Rs 7...</td>\n",
       "      <td>ThePrint Team</td>\n",
       "      <td>China, J.P. Nadda, PM-CARE</td>\n",
       "      <td>The Bharatiya Janata Party (BJP) could contrib...</td>\n",
       "      <td>[[The Bharatiya Janata Party, ORG], [BJP, ORG]...</td>\n",
       "    </tr>\n",
       "    <tr>\n",
       "      <th>7</th>\n",
       "      <td>Pre-Truth</td>\n",
       "      <td>25 March, 2020 7:03 pm IST</td>\n",
       "      <td>Modi announced it last Thursday but Covid-19 e...</td>\n",
       "      <td>ThePrint Team</td>\n",
       "      <td>Coronavirus, COVID-19, Nithyananda</td>\n",
       "      <td>Prime Minister Narendra Modi last Thursday ann...</td>\n",
       "      <td>[[Narendra Modi, PERSON], [last Thursday, DATE...</td>\n",
       "    </tr>\n",
       "    <tr>\n",
       "      <th>8</th>\n",
       "      <td>Pre-Truth</td>\n",
       "      <td>23 March, 2020 5:53 pm IST</td>\n",
       "      <td>Why BJP is not happy with Karnataka CM Yediyur...</td>\n",
       "      <td>ThePrint Team</td>\n",
       "      <td>B. S. Yediyurappa, BJP Karnataka, IRS, KCR</td>\n",
       "      <td>BJP circles in Karnataka are abuzz with specul...</td>\n",
       "      <td>[[BJP, ORG], [Karnataka, GPE], [Karnataka, GPE...</td>\n",
       "    </tr>\n",
       "    <tr>\n",
       "      <th>9</th>\n",
       "      <td>Pre-Truth</td>\n",
       "      <td>7 March, 2020 6:32 pm IST</td>\n",
       "      <td>Sponsor Yes Bank is a no show at ET summit but...</td>\n",
       "      <td>ThePrint Team</td>\n",
       "      <td>Coronavirus, Prime Minister Narendra Modi, Sup...</td>\n",
       "      <td>Prime Minister Narendra Modi attended the Econ...</td>\n",
       "      <td>[[Narendra Modi, PERSON], [the Economic Times ...</td>\n",
       "    </tr>\n",
       "  </tbody>\n",
       "</table>\n",
       "</div>"
      ],
      "text/plain": [
       "  News_Category  ...                                      Name_Entities\n",
       "0     Pre-Truth  ...  [[BJP, ORG], [Jyotiraditya Scindia, PERSON], [...\n",
       "1     Pre-Truth  ...  [[Bharatiya Janata Party, ORG], [BJP, ORG], [J...\n",
       "2     Pre-Truth  ...  [[Two weeks, DATE], [IAS, ORG], [Beela Rajesh,...\n",
       "3     Pre-Truth  ...  [[Punjab, PERSON], [Karan Avtar Singh, FAC], [...\n",
       "4     Pre-Truth  ...  [[Delhi, GPE], [Sanskriti School, ORG], [almos...\n",
       "5     Pre-Truth  ...  [[Narendra Modi, PERSON], [another 19 days, DA...\n",
       "6     Pre-Truth  ...  [[The Bharatiya Janata Party, ORG], [BJP, ORG]...\n",
       "7     Pre-Truth  ...  [[Narendra Modi, PERSON], [last Thursday, DATE...\n",
       "8     Pre-Truth  ...  [[BJP, ORG], [Karnataka, GPE], [Karnataka, GPE...\n",
       "9     Pre-Truth  ...  [[Narendra Modi, PERSON], [the Economic Times ...\n",
       "\n",
       "[10 rows x 7 columns]"
      ]
     },
     "execution_count": 20,
     "metadata": {
      "tags": []
     },
     "output_type": "execute_result"
    }
   ],
   "source": [
    "df['Name_Entities'] = Name_entity\n",
    "df.to_csv('news_with_name_entity.csv')\n",
    "df.head(10)"
   ]
  },
  {
   "cell_type": "code",
   "execution_count": null,
   "metadata": {
    "colab": {},
    "colab_type": "code",
    "id": "3qbluGJ79_Mq"
   },
   "outputs": [],
   "source": [
    "# df.set_index('Published Date',inplace=True)\n",
    "# df.head(10)"
   ]
  },
  {
   "cell_type": "code",
   "execution_count": null,
   "metadata": {
    "colab": {},
    "colab_type": "code",
    "id": "KdmuTnUA9_Mw"
   },
   "outputs": [],
   "source": [
    "# Removing square bracket from string and quotes\n",
    "df['Article_Authors'] = df['Article_Authors'].str.strip('[]').str.replace('\\'', '')\n",
    "df['TAGS']=df['TAGS'].str.strip('[]').str.replace('\\'', '')\n",
    "df['Article_Content']=df['Article_Content'].str.strip('[]').str.replace('\\'', '')"
   ]
  },
  {
   "cell_type": "code",
   "execution_count": null,
   "metadata": {
    "colab": {
     "base_uri": "https://localhost:8080/",
     "height": 529
    },
    "colab_type": "code",
    "id": "XCnBetqi9_M5",
    "outputId": "f0cb6c53-604d-4f45-fba0-dada94debbfa"
   },
   "outputs": [
    {
     "data": {
      "text/html": [
       "<div>\n",
       "<style scoped>\n",
       "    .dataframe tbody tr th:only-of-type {\n",
       "        vertical-align: middle;\n",
       "    }\n",
       "\n",
       "    .dataframe tbody tr th {\n",
       "        vertical-align: top;\n",
       "    }\n",
       "\n",
       "    .dataframe thead th {\n",
       "        text-align: right;\n",
       "    }\n",
       "</style>\n",
       "<table border=\"1\" class=\"dataframe\">\n",
       "  <thead>\n",
       "    <tr style=\"text-align: right;\">\n",
       "      <th></th>\n",
       "      <th>News_Category</th>\n",
       "      <th>Published_Date</th>\n",
       "      <th>Article_Headline</th>\n",
       "      <th>Article_Authors</th>\n",
       "      <th>TAGS</th>\n",
       "      <th>Article_Content</th>\n",
       "      <th>Name_Entities</th>\n",
       "    </tr>\n",
       "  </thead>\n",
       "  <tbody>\n",
       "    <tr>\n",
       "      <th>0</th>\n",
       "      <td>Pre-Truth</td>\n",
       "      <td>25 July, 2020 3:16 pm IST</td>\n",
       "      <td>Scindia must prove himself more before PM Modi...</td>\n",
       "      <td>ThePrint Team</td>\n",
       "      <td>brahmins, Chief Minister Yogi Adityanath, Jyot...</td>\n",
       "      <td>BJP leader Jyotiraditya Scindia’s nomination t...</td>\n",
       "      <td>[[BJP, ORG], [Jyotiraditya Scindia, PERSON], [...</td>\n",
       "    </tr>\n",
       "    <tr>\n",
       "      <th>1</th>\n",
       "      <td>Pre-Truth</td>\n",
       "      <td>17 July, 2020 5:26 pm IST</td>\n",
       "      <td>These 3 leaders, called the BJP’s ‘rhymical tr...</td>\n",
       "      <td>ThePrint Team</td>\n",
       "      <td>Devendra Fadnavis, Dharmendra Pradhan, Jagdeep...</td>\n",
       "      <td>As Bharatiya Janata Party (BJP) president J.P....</td>\n",
       "      <td>[[Bharatiya Janata Party, ORG], [BJP, ORG], [J...</td>\n",
       "    </tr>\n",
       "    <tr>\n",
       "      <th>2</th>\n",
       "      <td>Pre-Truth</td>\n",
       "      <td>26 June, 2020 4:16 pm IST</td>\n",
       "      <td>Health minister’s confidante, Congress leader’...</td>\n",
       "      <td>ThePrint Team</td>\n",
       "      <td>Congress Working Committee, Edappadi Palaniswa...</td>\n",
       "      <td>Two weeks after IAS officer Beela Rajesh was s...</td>\n",
       "      <td>[[Two weeks, DATE], [IAS, ORG], [Beela Rajesh,...</td>\n",
       "    </tr>\n",
       "    <tr>\n",
       "      <th>3</th>\n",
       "      <td>Pre-Truth</td>\n",
       "      <td>9 June, 2020 7:39 pm IST</td>\n",
       "      <td>This 1987-batch IAS officer is the front-runne...</td>\n",
       "      <td>ThePrint Team</td>\n",
       "      <td>Jal Shakti ministry, Namami Gange scheme, PM C...</td>\n",
       "      <td>The power corridors in Punjab are agog with sp...</td>\n",
       "      <td>[[Punjab, PERSON], [Karan Avtar Singh, FAC], [...</td>\n",
       "    </tr>\n",
       "    <tr>\n",
       "      <th>4</th>\n",
       "      <td>Pre-Truth</td>\n",
       "      <td>10 May, 2020 4:21 pm IST</td>\n",
       "      <td>Why some IAS parents could pull kids out of Sa...</td>\n",
       "      <td>ThePrint Team</td>\n",
       "      <td>Arvind Kejriwal, Containment zones, IAS office...</td>\n",
       "      <td>With Delhi’s elite Sanskriti School refusing t...</td>\n",
       "      <td>[[Delhi, GPE], [Sanskriti School, ORG], [almos...</td>\n",
       "    </tr>\n",
       "    <tr>\n",
       "      <th>5</th>\n",
       "      <td>Pre-Truth</td>\n",
       "      <td>15 April, 2020 9:39 am IST</td>\n",
       "      <td>This ‘Venetian’ reason could be behind PM Modi...</td>\n",
       "      <td>ThePrint Team</td>\n",
       "      <td>China, COVID-19, Narendra Modi, Nationwide loc...</td>\n",
       "      <td>As Prime Minister Narendra Modi announced the ...</td>\n",
       "      <td>[[Narendra Modi, PERSON], [another 19 days, DA...</td>\n",
       "    </tr>\n",
       "    <tr>\n",
       "      <th>6</th>\n",
       "      <td>Pre-Truth</td>\n",
       "      <td>7 April, 2020 10:18 am IST</td>\n",
       "      <td>How BJP workers can ensure party collects Rs 7...</td>\n",
       "      <td>ThePrint Team</td>\n",
       "      <td>China, J.P. Nadda, PM-CARE</td>\n",
       "      <td>The Bharatiya Janata Party (BJP) could contrib...</td>\n",
       "      <td>[[The Bharatiya Janata Party, ORG], [BJP, ORG]...</td>\n",
       "    </tr>\n",
       "    <tr>\n",
       "      <th>7</th>\n",
       "      <td>Pre-Truth</td>\n",
       "      <td>25 March, 2020 7:03 pm IST</td>\n",
       "      <td>Modi announced it last Thursday but Covid-19 e...</td>\n",
       "      <td>ThePrint Team</td>\n",
       "      <td>Coronavirus, COVID-19, Nithyananda</td>\n",
       "      <td>Prime Minister Narendra Modi last Thursday ann...</td>\n",
       "      <td>[[Narendra Modi, PERSON], [last Thursday, DATE...</td>\n",
       "    </tr>\n",
       "    <tr>\n",
       "      <th>8</th>\n",
       "      <td>Pre-Truth</td>\n",
       "      <td>23 March, 2020 5:53 pm IST</td>\n",
       "      <td>Why BJP is not happy with Karnataka CM Yediyur...</td>\n",
       "      <td>ThePrint Team</td>\n",
       "      <td>B. S. Yediyurappa, BJP Karnataka, IRS, KCR</td>\n",
       "      <td>BJP circles in Karnataka are abuzz with specul...</td>\n",
       "      <td>[[BJP, ORG], [Karnataka, GPE], [Karnataka, GPE...</td>\n",
       "    </tr>\n",
       "    <tr>\n",
       "      <th>9</th>\n",
       "      <td>Pre-Truth</td>\n",
       "      <td>7 March, 2020 6:32 pm IST</td>\n",
       "      <td>Sponsor Yes Bank is a no show at ET summit but...</td>\n",
       "      <td>ThePrint Team</td>\n",
       "      <td>Coronavirus, Prime Minister Narendra Modi, Sup...</td>\n",
       "      <td>Prime Minister Narendra Modi attended the Econ...</td>\n",
       "      <td>[[Narendra Modi, PERSON], [the Economic Times ...</td>\n",
       "    </tr>\n",
       "  </tbody>\n",
       "</table>\n",
       "</div>"
      ],
      "text/plain": [
       "  News_Category  ...                                      Name_Entities\n",
       "0     Pre-Truth  ...  [[BJP, ORG], [Jyotiraditya Scindia, PERSON], [...\n",
       "1     Pre-Truth  ...  [[Bharatiya Janata Party, ORG], [BJP, ORG], [J...\n",
       "2     Pre-Truth  ...  [[Two weeks, DATE], [IAS, ORG], [Beela Rajesh,...\n",
       "3     Pre-Truth  ...  [[Punjab, PERSON], [Karan Avtar Singh, FAC], [...\n",
       "4     Pre-Truth  ...  [[Delhi, GPE], [Sanskriti School, ORG], [almos...\n",
       "5     Pre-Truth  ...  [[Narendra Modi, PERSON], [another 19 days, DA...\n",
       "6     Pre-Truth  ...  [[The Bharatiya Janata Party, ORG], [BJP, ORG]...\n",
       "7     Pre-Truth  ...  [[Narendra Modi, PERSON], [last Thursday, DATE...\n",
       "8     Pre-Truth  ...  [[BJP, ORG], [Karnataka, GPE], [Karnataka, GPE...\n",
       "9     Pre-Truth  ...  [[Narendra Modi, PERSON], [the Economic Times ...\n",
       "\n",
       "[10 rows x 7 columns]"
      ]
     },
     "execution_count": 9,
     "metadata": {
      "tags": []
     },
     "output_type": "execute_result"
    }
   ],
   "source": [
    "df.head(10)"
   ]
  },
  {
   "cell_type": "code",
   "execution_count": null,
   "metadata": {
    "colab": {
     "base_uri": "https://localhost:8080/",
     "height": 86
    },
    "colab_type": "code",
    "id": "xgodLOMk9_ND",
    "outputId": "9ca2c4dc-2cb7-401a-c7fd-141572cfc88c"
   },
   "outputs": [
    {
     "name": "stdout",
     "output_type": "stream",
     "text": [
      "Data set size : (3068, 7)\n",
      "Columns in Data set : Index(['News_Category', 'Published_Date', 'Article_Headline',\n",
      "       'Article_Authors', 'TAGS', 'Article_Content', 'Name_Entities'],\n",
      "      dtype='object')\n"
     ]
    }
   ],
   "source": [
    "print('Data set size : {}'.format(df.shape))\n",
    "print('Columns in Data set : {}'.format(df.columns))"
   ]
  },
  {
   "cell_type": "code",
   "execution_count": null,
   "metadata": {
    "colab": {
     "base_uri": "https://localhost:8080/",
     "height": 450
    },
    "colab_type": "code",
    "id": "EMnlSloF9_NM",
    "outputId": "109ff3b4-764a-4e15-b52d-eb599dd856fc"
   },
   "outputs": [
    {
     "data": {
      "image/png": "[encoded data removed]",
      "text/plain": [
       "<Figure size 1080x360 with 1 Axes>"
      ]
     },
     "metadata": {
      "needs_background": "light",
      "tags": []
     },
     "output_type": "display_data"
    }
   ],
   "source": [
    "news_category = {}\n",
    "for i in df['News_Category']:\n",
    "    if i in news_category:\n",
    "        news_category[i]+=1\n",
    "    else:\n",
    "        news_category[i]=1\n",
    "        \n",
    "key= list(news_category.keys())\n",
    "item= list(news_category.values())\n",
    "plt.figure(figsize=(15,5))\n",
    "plt.bar(key,item)\n",
    "plt.xlabel('News Category')\n",
    "plt.ylabel('Articles')\n",
    "plt.xticks(rotation=90)\n",
    "plt.title('Number of article / News Category')\n",
    "plt.show()"
   ]
  },
  {
   "cell_type": "code",
   "execution_count": null,
   "metadata": {
    "colab": {
     "base_uri": "https://localhost:8080/",
     "height": 34
    },
    "colab_type": "code",
    "id": "X5baDmId9_NS",
    "outputId": "0e720a27-c5e4-41d5-e5e8-40444e24277a"
   },
   "outputs": [
    {
     "name": "stdout",
     "output_type": "stream",
     "text": [
      "Word Count : 2281351\n"
     ]
    }
   ],
   "source": [
    "# Counting number of word present in Article Content\n",
    "count = 0\n",
    "for i in df['Article_Content']:\n",
    "    k = i.split(' ')\n",
    "    count+=len(k)\n",
    "print('Word Count : {}'.format(count))"
   ]
  },
  {
   "cell_type": "code",
   "execution_count": null,
   "metadata": {
    "colab": {
     "base_uri": "https://localhost:8080/",
     "height": 445
    },
    "colab_type": "code",
    "id": "pYtV9l3M9_NZ",
    "outputId": "62fb4178-8f44-499e-b407-f6ddcb0e5274"
   },
   "outputs": [
    {
     "data": {
      "image/png": "[encoded data removed]",
      "text/plain": [
       "<Figure size 1080x360 with 1 Axes>"
      ]
     },
     "metadata": {
      "needs_background": "light",
      "tags": []
     },
     "output_type": "display_data"
    }
   ],
   "source": [
    "date_dic ={}\n",
    "for i in df['Published_Date']:\n",
    "    j = i.rsplit(' ',3)[0]\n",
    "    if j in date_dic:\n",
    "        date_dic[j]+=1\n",
    "    else:\n",
    "        date_dic[j]=1\n",
    "        \n",
    "date_key = nlargest(50, date_dic, key = date_dic.get)\n",
    "date_value = [date_dic[i] for i in date_key]\n",
    "plt.figure(figsize=(15,5))\n",
    "plt.bar(date_key,date_value)\n",
    "plt.xlabel('Date of Publication')\n",
    "plt.ylabel('Number of Article published')\n",
    "plt.xticks(rotation=90)\n",
    "plt.title('Most articles published(Top50)')\n",
    "plt.show()"
   ]
  },
  {
   "cell_type": "code",
   "execution_count": null,
   "metadata": {
    "colab": {},
    "colab_type": "code",
    "id": "wkVQFuTF9_Nf"
   },
   "outputs": [],
   "source": [
    "def create_dictionary(df):\n",
    "    dic_author = {}\n",
    "    for i in df:\n",
    "        try:\n",
    "            temp = i.split(',')\n",
    "            if len(temp)>1:\n",
    "                for j in temp:\n",
    "                    if j in dic_author:\n",
    "                        dic_author[j]+=1\n",
    "                    else:\n",
    "                        dic_author[j]=1\n",
    "            else:\n",
    "                if temp[0] in dic_author:\n",
    "                    dic_author[temp[0]]+=1\n",
    "                else:\n",
    "                    dic_author[temp[0]]=1\n",
    "        except:\n",
    "            continue\n",
    "    return dic_author"
   ]
  },
  {
   "cell_type": "code",
   "execution_count": null,
   "metadata": {
    "colab": {
     "base_uri": "https://localhost:8080/",
     "height": 440
    },
    "colab_type": "code",
    "id": "ZB5yw1m49_Nk",
    "outputId": "d43011b7-6b7d-49b2-b314-db77d21614dc"
   },
   "outputs": [
    {
     "data": {
      "image/png": "[encoded data removed]",
      "text/plain": [
       "<Figure size 1080x360 with 1 Axes>"
      ]
     },
     "metadata": {
      "needs_background": "light",
      "tags": []
     },
     "output_type": "display_data"
    }
   ],
   "source": [
    "dic_author =  create_dictionary(df['Article_Authors'])          \n",
    "key = nlargest(50, dic_author, key = dic_author.get)\n",
    "value = [dic_author[i] for i in key]\n",
    "plt.figure(figsize=(15,5))\n",
    "plt.bar(key,value)\n",
    "plt.xlabel('Author')\n",
    "plt.ylabel('No. of Articles')\n",
    "plt.xticks(rotation=90)\n",
    "plt.title('Top 50 Article contributor')\n",
    "plt.show()"
   ]
  },
  {
   "cell_type": "code",
   "execution_count": null,
   "metadata": {
    "colab": {
     "base_uri": "https://localhost:8080/",
     "height": 481
    },
    "colab_type": "code",
    "id": "BFidhPdM9_Ns",
    "outputId": "06bec503-1e79-4dc3-ac01-e8d3eb30da9d"
   },
   "outputs": [
    {
     "data": {
      "image/png": "[encoded data removed]",
      "text/plain": [
       "<Figure size 1080x360 with 1 Axes>"
      ]
     },
     "metadata": {
      "needs_background": "light",
      "tags": []
     },
     "output_type": "display_data"
    }
   ],
   "source": [
    "dic_tags = create_dictionary(df['TAGS'])\n",
    "key = nlargest(50, dic_tags, key = dic_tags.get)\n",
    "value = [dic_tags[i] for i in key]\n",
    "plt.figure(figsize=(15,5))\n",
    "plt.bar(key,value)\n",
    "plt.xlabel('TAGS')\n",
    "plt.ylabel('Number of Article')\n",
    "plt.xticks(rotation=90)\n",
    "plt.title('Top 50 TAGS')\n",
    "plt.show()"
   ]
  },
  {
   "cell_type": "code",
   "execution_count": null,
   "metadata": {
    "colab": {},
    "colab_type": "code",
    "id": "qKn3ULjc9_Ny"
   },
   "outputs": [],
   "source": []
  },
  {
   "cell_type": "code",
   "execution_count": null,
   "metadata": {
    "colab": {},
    "colab_type": "code",
    "id": "cVxpThc39_N4"
   },
   "outputs": [],
   "source": [
    "# jobs@cyberboxer.com"
   ]
  },
  {
   "cell_type": "code",
   "execution_count": null,
   "metadata": {
    "colab": {},
    "colab_type": "code",
    "id": "OL36yOrO9_N9"
   },
   "outputs": [],
   "source": []
  },
  {
   "cell_type": "code",
   "execution_count": null,
   "metadata": {
    "colab": {},
    "colab_type": "code",
    "id": "IzbLy71kLafS"
   },
   "outputs": [],
   "source": []
  }
 ],
 "metadata": {
  "colab": {
   "collapsed_sections": [],
   "name": "ritik_raj_7903091109.ipynb",
   "provenance": []
  },
  "kernelspec": {
   "display_name": "Python 3",
   "language": "python",
   "name": "python3"
  },
  "language_info": {
   "codemirror_mode": {
    "name": "ipython",
    "version": 3
   },
   "file_extension": ".py",
   "mimetype": "text/x-python",
   "name": "python",
   "nbconvert_exporter": "python",
   "pygments_lexer": "ipython3",
   "version": "3.7.6"
  }
 },
 "nbformat": 4,
 "nbformat_minor": 4
}
